{
 "cells": [
  {
   "cell_type": "code",
   "execution_count": 1,
   "metadata": {},
   "outputs": [],
   "source": [
    "import pandas as pd"
   ]
  },
  {
   "cell_type": "code",
   "execution_count": 2,
   "metadata": {},
   "outputs": [
    {
     "name": "stdout",
     "output_type": "stream",
     "text": [
      "即将运行国家队数据自动化处理程序\n",
      "\n",
      "是否继续？请输入y/Y继续，输入n/N退出\n",
      "y\n"
     ]
    }
   ],
   "source": [
    "print('即将运行国家队数据自动化处理程序\\n')\n",
    "key = input('是否继续？请输入y/Y继续，输入n/N退出\\n')\n",
    "if key == 'n' or key == 'N':\n",
    "    exit()"
   ]
  },
  {
   "cell_type": "code",
   "execution_count": 3,
   "metadata": {},
   "outputs": [
    {
     "name": "stdout",
     "output_type": "stream",
     "text": [
      "请阅读以下内容，确保提供正确的数据源，请注意您提供的数据一定要与模板数据一致，否则程序将会出错！\n",
      "\n"
     ]
    }
   ],
   "source": [
    "print('请阅读以下内容,确保提供正确的数据源,请注意您提供的数据一定要与模板数据一致,模板数据文件夹为template,否则程序将会出错！\\n')"
   ]
  },
  {
   "cell_type": "code",
   "execution_count": 4,
   "metadata": {},
   "outputs": [
    {
     "name": "stdout",
     "output_type": "stream",
     "text": [
      "1.您需要更新template_all_company.xlsx中的全部A股数据，我已经使用wind函数写好，您只需要打开一次，修改日期值为当前季度末然后待数据更新完毕后保存即可，确认后按任意键继续! \n",
      " \n",
      "2.您需要提供上季度的综合数据，可从上个季度数据复制，格式与template_last.xlsx一致，并将其命名为last.xlsx,请注意后缀一定为.xlsx！确认后按任意键继续!\n",
      "\n",
      "3.您需要提供当前季度的数据，从万得数据库复制，复制后的格式应与template_data.xlsx文件一致，包括证金，汇金，以及中证金融资管的十个基金，命名为data.xlsx，确认后请按任意键继续!\n",
      "\n",
      "确保以上数据准备完毕，可以开始自动化处理数据，请按任意键继续!\n",
      "\n"
     ]
    },
    {
     "data": {
      "text/plain": [
       "''"
      ]
     },
     "execution_count": 4,
     "metadata": {},
     "output_type": "execute_result"
    }
   ],
   "source": [
    "input('1.您需要更新template_all_company.xlsx中的全部A股数据，我已经使用wind函数写好，您只需要打开一次，修改日期值为当前季度末然后待数据更新完毕后保存即可，确认后按任意键继续! \\n ')\n",
    "input('2.您需要提供上季度的综合数据，可从上个季度数据复制，格式与template_last.xlsx一致，并将其命名为last.xlsx,请注意后缀一定为.xlsx！确认后按任意键继续!\\n')\n",
    "input('3.您需要提供当前季度的数据，从万得数据库复制，复制后的格式应与template_data.xlsx文件一致，包括证金，汇金，以及中证金融资管的十个基金，命名为data.xlsx，确认后请按任意键继续!\\n')\n",
    "input('确保以上数据准备完毕，可以开始自动化处理数据，请按任意键继续!\\n')"
   ]
  },
  {
   "cell_type": "code",
   "execution_count": 5,
   "metadata": {},
   "outputs": [
    {
     "name": "stdout",
     "output_type": "stream",
     "text": [
      "请输入您需要的季度，如19Q3\n",
      "19Q3\n"
     ]
    }
   ],
   "source": [
    "label = input('请输入您需要的季度，如19Q3\\n')"
   ]
  },
  {
   "cell_type": "code",
   "execution_count": 6,
   "metadata": {},
   "outputs": [],
   "source": [
    "####计算上个季度\n",
    "if label[-1] == '1':\n",
    "    last_label = str(int(label[0:2])-1) + 'Q4'\n",
    "else:\n",
    "    last_label = label[0:3] + str(int(label[-1])-1)"
   ]
  },
  {
   "cell_type": "code",
   "execution_count": 7,
   "metadata": {},
   "outputs": [],
   "source": [
    "try:\n",
    "    all_company = pd.read_excel('template/template_all_company.xlsx',usecols=['代码','证券简称','行业','板块','期末自由流通市值'])\n",
    "except:\n",
    "    print('template_all_company.xlsx数据有错误\\n')\n",
    "    exit()"
   ]
  },
  {
   "cell_type": "code",
   "execution_count": 8,
   "metadata": {},
   "outputs": [],
   "source": [
    "try:\n",
    "    证金 = pd.read_excel('data.xlsx',sheet_name='证金',usecols=['证券简称','期末参考市值(亿元)'])\n",
    "    汇金 = pd.read_excel('data.xlsx',sheet_name='汇金',usecols=['证券简称','期末参考市值(亿元)'])\n",
    "    中欧基金 = pd.read_excel('data.xlsx',sheet_name='中欧基金',usecols=['证券简称','期末参考市值(亿元)'])\n",
    "    银华基金 = pd.read_excel('data.xlsx',sheet_name='银华基金',usecols=['证券简称','期末参考市值(亿元)'])\n",
    "    易方达基金 = pd.read_excel('data.xlsx',sheet_name='易方达基金',usecols=['证券简称','期末参考市值(亿元)'])\n",
    "    南方基金 = pd.read_excel('data.xlsx',sheet_name='南方基金',usecols=['证券简称','期末参考市值(亿元)'])\n",
    "    嘉实基金 = pd.read_excel('data.xlsx',sheet_name='嘉实基金',usecols=['证券简称','期末参考市值(亿元)'])\n",
    "    华夏基金 = pd.read_excel('data.xlsx',sheet_name='华夏基金',usecols=['证券简称','期末参考市值(亿元)'])\n",
    "    大成基金 = pd.read_excel('data.xlsx',sheet_name='大成基金',usecols=['证券简称','期末参考市值(亿元)'])\n",
    "    广发基金 = pd.read_excel('data.xlsx',sheet_name='广发基金',usecols=['证券简称','期末参考市值(亿元)'])\n",
    "    博时基金 = pd.read_excel('data.xlsx',sheet_name='博时基金',usecols=['证券简称','期末参考市值(亿元)'])\n",
    "    工银瑞信 = pd.read_excel('data.xlsx',sheet_name='工银瑞信',usecols=['证券简称','期末参考市值(亿元)'])\n",
    "    梧桐树 = pd.read_excel('data.xlsx',sheet_name='梧桐树',usecols=['证券简称','期末参考市值(亿元)'])\n",
    "except:\n",
    "    print('data.xlsx数据有错误，请检查各个sheet_name,文件命名是否有问题\\n')\n",
    "    exit()"
   ]
  },
  {
   "cell_type": "code",
   "execution_count": 9,
   "metadata": {},
   "outputs": [],
   "source": [
    "try:\n",
    "    last = pd.read_excel('last.xlsx',usecols=['代码','证券简称','行业','板块','期末参考市值(亿元)','期末自由流通市值'])\n",
    "except:\n",
    "    print('last.xlsx数据有错误，请检查各个列名,文件命名等是否有问题\\n')\n",
    "    exit()"
   ]
  },
  {
   "cell_type": "code",
   "execution_count": 10,
   "metadata": {},
   "outputs": [
    {
     "name": "stdout",
     "output_type": "stream",
     "text": [
      "数据读取完毕\n",
      "\n"
     ]
    }
   ],
   "source": [
    "print('数据读取完毕\\n')"
   ]
  },
  {
   "cell_type": "code",
   "execution_count": 11,
   "metadata": {},
   "outputs": [],
   "source": [
    "####第一步中证金融十个基金国家队数据计算\n",
    "十支基金 = ['中欧基金','银华基金','易方达基金','南方基金','嘉实基金','华夏基金','大成基金','广发基金','博时基金','工银瑞信']\n",
    "def get_中证金融():\n",
    "    df = all_company.copy()\n",
    "    df.drop(columns=['代码','期末自由流通市值','行业','板块'],inplace=True)\n",
    "    df['期末参考市值(亿元)'] = pd.Series([0 for i in range(df.shape[0])])\n",
    "    for name in 十支基金:####理解起来很难，后面维护的同学注意可以试试一步一步调试，尤其是eval（name）的使用\n",
    "        df = df.merge(eval(name),on='证券简称',how='left',suffixes=('','_1'))\n",
    "        df.fillna(0,inplace=True)\n",
    "        df['期末参考市值(亿元)'] = df['期末参考市值(亿元)']+df['期末参考市值(亿元)_1']\n",
    "        df.drop(columns=['期末参考市值(亿元)_1'],inplace=True)\n",
    "    return df\n",
    "中证金融 = get_中证金融()\n",
    "###至此，已经生成：\n",
    "#证金，汇金，中证金融，梧桐树四个国家队基金，columns=['证券简称'，'期末参考市值(亿元)']"
   ]
  },
  {
   "cell_type": "code",
   "execution_count": 12,
   "metadata": {},
   "outputs": [
    {
     "name": "stdout",
     "output_type": "stream",
     "text": [
      "已经输出国家队持股规模至\"国家队持股规模.xlsx\"\n",
      "\n"
     ]
    }
   ],
   "source": [
    "####输出：国家队持股规模\n",
    "四个国家队 = ['证金','汇金','中证金融','梧桐树']\n",
    "国家队持股规模 = pd.DataFrame({'持有市值':四个国家队,\n",
    "                        label:[证金['期末参考市值(亿元)'].sum(),\n",
    "                               汇金['期末参考市值(亿元)'].sum(),\n",
    "                               中证金融['期末参考市值(亿元)'].sum(),\n",
    "                               梧桐树['期末参考市值(亿元)'].sum()]\n",
    "                       })\n",
    "国家队持股规模.to_excel('国家队持股规模.xlsx',sheet_name='国家队持股规模',index=False)\n",
    "print('已经输出国家队持股规模至\"国家队持股规模.xlsx\"\\n')"
   ]
  },
  {
   "cell_type": "code",
   "execution_count": 13,
   "metadata": {},
   "outputs": [],
   "source": [
    "####第二步获取四个国家队相加总和数据\n",
    "def step2():\n",
    "    df = all_company.copy(deep=True)\n",
    "    df['期末参考市值(亿元)'] = pd.Series([0 for i in range(df.shape[0])])\n",
    "    for name in 四个国家队:\n",
    "        df = df.merge(eval(name),on=['证券简称'],how='left',suffixes=('','_1'))\n",
    "        df.fillna(0,inplace=True)\n",
    "        df['期末参考市值(亿元)'] = df['期末参考市值(亿元)']+df['期末参考市值(亿元)_1']\n",
    "        df.drop(columns=['期末参考市值(亿元)_1'],inplace=True)\n",
    "    df = df.merge(last[['证券简称','期末参考市值(亿元)','期末自由流通市值']],on=['证券简称'],how='left',suffixes=('','_1'))\n",
    "    df.rename(columns={'期末参考市值(亿元)_1':last_label+\"参考市值\",'期末自由流通市值_1':last_label+\"自由流通市值\"},inplace=True)\n",
    "    ###处理新进的df.loc[pd.isna(a['19Q4参考市值']),'期末参考市值(亿元)'] !=0，说明存在新进的股票,直接drop_na()是不合适的\n",
    "    temp = df.loc[pd.isna(df[last_label+'参考市值']),'期末参考市值(亿元)']\n",
    "    for i in temp.index:\n",
    "        if temp[i] != 0.0:\n",
    "            df.loc[i,'期末参考市值(亿元)'] = 0.0\n",
    "    df.dropna(inplace=True)\n",
    "    df.reset_index(inplace=True)\n",
    "    df.drop(columns=['index'],inplace=True)\n",
    "    df['市值增减'] = df['期末参考市值(亿元)']-df[last_label+'参考市值']\n",
    "    df['持有市值占比'] = df['期末参考市值(亿元)']/df['期末自由流通市值']\n",
    "    df[last_label+'持有市值占比'] = df[last_label+'参考市值']/df[last_label+\"自由流通市值\"]\n",
    "    return df"
   ]
  },
  {
   "cell_type": "code",
   "execution_count": 14,
   "metadata": {},
   "outputs": [
    {
     "name": "stdout",
     "output_type": "stream",
     "text": [
      "已经输出19Q3至19Q3.xlsx\n",
      "\n"
     ]
    }
   ],
   "source": [
    "####输出：合并后的当前季度数据\n",
    "合并后的当前季度数据 = step2()\n",
    "合并后的当前季度数据.to_excel(label+'.xlsx',sheet_name=label,index=False)\n",
    "print('已经输出'+label+'至'+label+'.xlsx\\n')"
   ]
  },
  {
   "cell_type": "code",
   "execution_count": 15,
   "metadata": {},
   "outputs": [
    {
     "name": "stdout",
     "output_type": "stream",
     "text": [
      "已经输出个股增持前十数据至个股增持前十.xlsx\n",
      "已经输出个股坚持前十数据至个股减持前十.xlsx\n",
      "\n"
     ]
    }
   ],
   "source": [
    "####第三步获得国家队每季度个股增减持前十位\n",
    "def step3():\n",
    "    增持 = 合并后的当前季度数据.sort_values(by='市值增减',axis=0,ascending=False)\n",
    "    增持.reset_index(inplace=True)\n",
    "    增持.drop(columns=['index'],inplace=True)\n",
    "    增持 = 增持.loc[:9,['代码','证券简称','行业','市值增减']]\n",
    "    增持.to_excel('个股增持前十.xlsx',index=False)\n",
    "    print('已经输出个股增持前十数据至个股增持前十.xlsx')\n",
    "####第四步获得国家队每季度个股增减持前十位\n",
    "def step4():\n",
    "    减持 = 合并后的当前季度数据.sort_values(by='市值增减',axis=0,ascending=True)\n",
    "    减持.reset_index(inplace=True)\n",
    "    减持.drop(columns=['index'],inplace=True)\n",
    "    减持 = 减持.loc[:9,['代码','证券简称','行业','市值增减']]\n",
    "    减持.to_excel('个股减持前十.xlsx',index=False)\n",
    "    print('已经输出个股坚持前十数据至个股减持前十.xlsx\\n')\n",
    "step3()\n",
    "step4()"
   ]
  },
  {
   "cell_type": "code",
   "execution_count": 16,
   "metadata": {},
   "outputs": [
    {
     "name": "stdout",
     "output_type": "stream",
     "text": [
      "已经输出行业数据至行业合并数据.xlsx\n",
      "\n",
      "已经输出行业减持前十数据至行业减持前十.xlsx\n",
      "\n",
      "已经输出行业增持前十数据至行业减持前十.xlsx\n",
      "\n"
     ]
    }
   ],
   "source": [
    "####第五步，第六步获得每季度增减幅行业前十位\n",
    "def step5():\n",
    "    df = 合并后的当前季度数据.groupby(by='行业')['期末自由流通市值','期末参考市值(亿元)',last_label+'参考市值',last_label+\"自由流通市值\"].sum()\n",
    "    df['市值增减'] = df['期末参考市值(亿元)']-df[last_label+'参考市值']\n",
    "    df['持有市值占比'] = df['期末参考市值(亿元)']/df['期末自由流通市值']\n",
    "    df[last_label+'持有市值占比'] = df[last_label+'参考市值']/df[last_label+\"自由流通市值\"]\n",
    "    df['行业'] = df.index\n",
    "    df['占比增减'] = df['持有市值占比'] - df[last_label+'持有市值占比']\n",
    "    df.to_excel('行业合并数据.xlsx',index=False)\n",
    "    print('已经输出行业数据至行业合并数据.xlsx\\n')\n",
    "    return df\n",
    "\n",
    "行业合并数据 = step5()\n",
    "\n",
    "def step6(ascending=True):####默认减持\n",
    "    df = 行业合并数据.copy()\n",
    "    df = df.sort_values(by='占比增减',ascending=ascending)\n",
    "    df.drop(columns=['行业'],inplace=True)\n",
    "    df.reset_index(inplace=True)\n",
    "    df = df.loc[:9,['行业','市值增减','占比增减']]\n",
    "    if ascending:\n",
    "        df.to_excel('行业减持前十.xlsx',index=False)\n",
    "        print('已经输出行业减持前十数据至行业减持前十.xlsx\\n')\n",
    "    else:\n",
    "        df.to_excel('行业增持前十.xlsx',index=False)\n",
    "        print('已经输出行业增持前十数据至行业减持前十.xlsx\\n')\n",
    "step6()\n",
    "step6(False)\n",
    "    "
   ]
  },
  {
   "cell_type": "code",
   "execution_count": 17,
   "metadata": {},
   "outputs": [
    {
     "name": "stdout",
     "output_type": "stream",
     "text": [
      "已经输出持股市值至板块分布_持股市值.xlsx\n",
      "\n"
     ]
    }
   ],
   "source": [
    "####第七步获得板块分布情况\n",
    "df_all = all_company.groupby(by='板块')['期末自由流通市值'].sum()\n",
    "\n",
    "df_持有 = 合并后的当前季度数据.groupby(by='板块')['期末参考市值(亿元)'].sum()\n",
    "df_持有.to_excel(\"板块分布_持股市值.xlsx\")\n",
    "print('已经输出持股市值至板块分布_持股市值.xlsx\\n')"
   ]
  },
  {
   "cell_type": "code",
   "execution_count": 18,
   "metadata": {},
   "outputs": [
    {
     "name": "stdout",
     "output_type": "stream",
     "text": [
      "已经输出流通市值占比至板块分布_流通市值占比.xlsx\n",
      "\n"
     ]
    }
   ],
   "source": [
    "####求出流通市值占比\n",
    "流通市值占比 = pd.DataFrame({'流通市值占比':['创业板','中小板','主板','科创板','合计','创业板','中小板','主板','科创板'],\n",
    "                       label:[df_all['创业板'],df_all['中小企业板'],df_all['主板'],\n",
    "                              df_all['科创板'],sum(df_all),df_all['创业板']/sum(df_all),\n",
    "                              df_all['中小企业板']/sum(df_all),df_all['主板']/sum(df_all),\n",
    "                              df_all['科创板']/sum(df_all)]\n",
    "                      })\n",
    "流通市值占比.to_excel(\"板块分布_流通市值占比.xlsx\",index=False)\n",
    "print('已经输出流通市值占比至板块分布_流通市值占比.xlsx\\n')"
   ]
  },
  {
   "cell_type": "code",
   "execution_count": 19,
   "metadata": {},
   "outputs": [
    {
     "name": "stdout",
     "output_type": "stream",
     "text": [
      "已经输出持股市值占比至板块分布_持股市值占比.xlsx\n",
      "\n"
     ]
    }
   ],
   "source": [
    "持股市值占比 = pd.DataFrame({\"持股市值占比\":['创业板','中小板','主板'],\n",
    "                       label:[df_持有['创业板']/sum(df_持有),\n",
    "                              df_持有['中小企业板']/sum(df_持有),\n",
    "                              df_持有['主板']/sum(df_持有)\n",
    "                             ]\n",
    "                      })\n",
    "持股市值占比.to_excel(\"板块分布_持股市值占比.xlsx\",index=False)\n",
    "print('已经输出持股市值占比至板块分布_持股市值占比.xlsx\\n')"
   ]
  },
  {
   "cell_type": "code",
   "execution_count": null,
   "metadata": {},
   "outputs": [],
   "source": [
    "print(\"程序结束，谢谢您的使用！\\n\")"
   ]
  }
 ],
 "metadata": {
  "kernelspec": {
   "display_name": "Python 3",
   "language": "python",
   "name": "python3"
  },
  "language_info": {
   "codemirror_mode": {
    "name": "ipython",
    "version": 3
   },
   "file_extension": ".py",
   "mimetype": "text/x-python",
   "name": "python",
   "nbconvert_exporter": "python",
   "pygments_lexer": "ipython3",
   "version": "3.7.5"
  }
 },
 "nbformat": 4,
 "nbformat_minor": 2
}
